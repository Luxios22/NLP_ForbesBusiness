{
  "cells": [
    {
      "cell_type": "markdown",
      "source": [
        "# Task 2: Preprocessing for a chosen news"
      ],
      "metadata": {
        "id": "XZRxhEbW4vd3"
      }
    },
    {
      "cell_type": "code",
      "source": [
        "import sparknlp \n",
        "\n",
        "spark = sparknlp.start()\n",
        "\n",
        "print(\"Spark NLP version: \", sparknlp.version())\n",
        "print(\"Apache Spark version: \", spark.version)"
      ],
      "metadata": {
        "colab": {
          "base_uri": "https://localhost:8080/"
        },
        "id": "pJbF9nYM4tSo",
        "outputId": "a861301f-8179-4ef9-af4e-e2311635bb8a"
      },
      "execution_count": null,
      "outputs": [
        {
          "output_type": "stream",
          "name": "stdout",
          "text": [
            "Spark NLP version:  3.3.4\n",
            "Apache Spark version:  3.0.3\n"
          ]
        }
      ]
    },
    {
      "cell_type": "code",
      "execution_count": null,
      "metadata": {
        "id": "2qQl-zeVumAC"
      },
      "outputs": [],
      "source": [
        "from sparknlp.pretrained import PretrainedPipeline\n",
        "from sparknlp.base import *\n",
        "from sparknlp.annotator import *"
      ]
    },
    {
      "cell_type": "markdown",
      "source": [
        "## 1. Remove all company names shown in the article you have chosen \n",
        "(Please do not use hardcode to specify the company name)"
      ],
      "metadata": {
        "id": "t4PcoyVa5mVR"
      }
    },
    {
      "cell_type": "code",
      "execution_count": null,
      "metadata": {
        "colab": {
          "base_uri": "https://localhost:8080/"
        },
        "id": "VOZ1IehqumAO",
        "outputId": "6e9fb193-f8a9-48cf-e860-b2366b452f87",
        "scrolled": true
      },
      "outputs": [
        {
          "output_type": "stream",
          "name": "stdout",
          "text": [
            "onto_recognize_entities_sm download started this may take some time.\n",
            "Approx size to download 160.1 MB\n",
            "[OK!]\n"
          ]
        }
      ],
      "source": [
        "# using pretrained Spark NLP pipeline to help recognize company names\n",
        "pipeline = PretrainedPipeline('onto_recognize_entities_sm')"
      ]
    },
    {
      "cell_type": "code",
      "execution_count": null,
      "metadata": {
        "colab": {
          "base_uri": "https://localhost:8080/",
          "height": 140
        },
        "id": "CU9eVRdyumAa",
        "outputId": "1e809e43-e55b-4ac4-ed7a-6a52d7c4c5d5"
      },
      "outputs": [
        {
          "output_type": "execute_result",
          "data": {
            "application/vnd.google.colaboratory.intrinsic+json": {
              "type": "string"
            },
            "text/plain": [
              "'Visitors check out the booth belonging to SenseTime at the 2021 World Artificial Intelligence  Conference in Shanghai on July 7, 2021.Chinese artificial intelligence giant SenseTime is pushing ahead with its initial public offering in Hong Kong despite being placed on a U.S. investment blacklist just one week ago, and the company is keeping its price range unchanged. SenseTime is still seeking to sell 1.5 billion shares at a range of HK$3.85 to HK$3.99 apiece, the company said in a filing to the Hong Kong Stock Exchange. SenseTime, which is based in both Shanghai and Hong Kong, has updated its list of cornerstone investors that now includes state-owned Shanghai Xuhui Capital, Taizhou Culture & Tourism and HKSTP Venture Fund. The cornerstone investors have agreed to subscribe for $512 million worth of SenseTime shares, which amounts to about 67% of the deal. SenseTime will set its final IPO price on Thursday, and it plans to start trading on December 30. “Demand for the company’s IPO is still there, despite U.S. investors being banned from investing into it, ” says Ke Yan, head of research at Singapore-based DZT Research. The company, however, warned in an updated prospectus that the U.S. investment blacklist may affect future interest in and the liquidity of its shares. The U.S. Treasury Department added SenseTime to a list of Chinese military-industrial complex companies on December 10, citing its development of facial recognition software that can determine ethnicity and has been used to help the Chinese government identify ethnic Uyghurs in the province of Xinjiang. The move effectively bans Americans from investing in the firm. The restrictions “could limit our group’s ability to raise funds, in particular, from U.S. investors, and the liquidity and market price of our publicly traded securities, including our Class B shares, could be adversely affected due to a lack of U.S. investor participation,” the company wrote in its amended prospectus. SenseTime was founded in 2014 when professor Tang Xiao’ou established the company with two of his Ph.D. students, Xu Li and Xu Bing. The 53-year-old has a net worth of at least $3.4 billion based on his ownership in the company, although he isn’t as involved in its daily management. Tang is said to be responsible for SenseTime’s research strategies and partnerships with universities, and he also continues to teach AI-related courses at the Chinese University of Hong Kong.'"
            ]
          },
          "metadata": {},
          "execution_count": 5
        }
      ],
      "source": [
        "# load the chosen article for pre-processing\n",
        "f = open(\"forbes/outputs/Chinese AI Giant SenseTime Reopens $770 Million IPO One Week After U.S. Blacklist.txt\", encoding=\"utf8\")\n",
        "text = f.read()\n",
        "\n",
        "# show text of txt file\n",
        "text\n"
      ]
    },
    {
      "cell_type": "code",
      "execution_count": null,
      "metadata": {
        "colab": {
          "base_uri": "https://localhost:8080/"
        },
        "id": "LLoeWeb8umAl",
        "outputId": "55cfff20-1678-4770-dfde-904dcd357af8"
      },
      "outputs": [
        {
          "output_type": "execute_result",
          "data": {
            "text/plain": [
              "['entities', 'document', 'token', 'ner', 'embeddings', 'sentence']"
            ]
          },
          "metadata": {},
          "execution_count": 6
        }
      ],
      "source": [
        "result = pipeline.annotate(text)\n",
        "list(result.keys())"
      ]
    },
    {
      "cell_type": "code",
      "source": [
        "# visualize the NER results\n",
        "from sparknlp_display import NerVisualizer\n",
        "\n",
        "NerVisualizer().display(\n",
        "    result = pipeline.transform(spark.createDataFrame([[text]]).toDF(\"text\")).collect()[0],\n",
        "    label_col = 'entities',\n",
        "    document_col = 'document'\n",
        ")"
      ],
      "metadata": {
        "colab": {
          "base_uri": "https://localhost:8080/",
          "height": 1000
        },
        "id": "u8k_EjrzxVPO",
        "outputId": "0e9cfcc8-6234-4f79-dc2b-8b48d86eda3c"
      },
      "execution_count": null,
      "outputs": [
        {
          "output_type": "display_data",
          "data": {
            "text/html": [
              "\n",
              "<style>\n",
              "    @import url('https://fonts.googleapis.com/css2?family=Montserrat:wght@300;400;500;600;700&display=swap');\n",
              "    @import url('https://fonts.googleapis.com/css2?family=Vistol Regular:wght@300;400;500;600;700&display=swap');\n",
              "    \n",
              "    .spark-nlp-display-scroll-entities {\n",
              "        border: 1px solid #E7EDF0;\n",
              "        border-radius: 3px;\n",
              "        text-align: justify;\n",
              "        \n",
              "    }\n",
              "    .spark-nlp-display-scroll-entities span {  \n",
              "        font-size: 14px;\n",
              "        line-height: 24px;\n",
              "        color: #536B76;\n",
              "        font-family: 'Montserrat', sans-serif !important;\n",
              "    }\n",
              "    \n",
              "    .spark-nlp-display-entity-wrapper{\n",
              "    \n",
              "        display: inline-grid;\n",
              "        text-align: center;\n",
              "        border-radius: 4px;\n",
              "        margin: 0 2px 5px 2px;\n",
              "        padding: 1px\n",
              "    }\n",
              "    .spark-nlp-display-entity-name{\n",
              "        font-size: 14px;\n",
              "        line-height: 24px;\n",
              "        font-family: 'Montserrat', sans-serif !important;\n",
              "        \n",
              "        background: #f1f2f3;\n",
              "        border-width: medium;\n",
              "        text-align: center;\n",
              "        \n",
              "        font-weight: 400;\n",
              "        \n",
              "        border-radius: 5px;\n",
              "        padding: 2px 5px;\n",
              "        display: block;\n",
              "        margin: 3px 2px;\n",
              "    \n",
              "    }\n",
              "    .spark-nlp-display-entity-type{\n",
              "        font-size: 14px;\n",
              "        line-height: 24px;\n",
              "        color: #ffffff;\n",
              "        font-family: 'Montserrat', sans-serif !important;\n",
              "        \n",
              "        text-transform: uppercase;\n",
              "        \n",
              "        font-weight: 500;\n",
              "\n",
              "        display: block;\n",
              "        padding: 3px 5px;\n",
              "    }\n",
              "    \n",
              "    .spark-nlp-display-entity-resolution{\n",
              "        font-size: 14px;\n",
              "        line-height: 24px;\n",
              "        color: #ffffff;\n",
              "        font-family: 'Vistol Regular', sans-serif !important;\n",
              "        \n",
              "        text-transform: uppercase;\n",
              "        \n",
              "        font-weight: 500;\n",
              "\n",
              "        display: block;\n",
              "        padding: 3px 5px;\n",
              "    }\n",
              "    \n",
              "    .spark-nlp-display-others{\n",
              "        font-size: 14px;\n",
              "        line-height: 24px;\n",
              "        font-family: 'Montserrat', sans-serif !important;\n",
              "        \n",
              "        font-weight: 400;\n",
              "    }\n",
              "\n",
              "</style>\n",
              " <span class=\"spark-nlp-display-others\" style=\"background-color: white\">Visitors check out the booth belonging to </span><span class=\"spark-nlp-display-entity-wrapper\" style=\"background-color: #0E8252\"><span class=\"spark-nlp-display-entity-name\">SenseTime </span><span class=\"spark-nlp-display-entity-type\">PERSON</span></span><span class=\"spark-nlp-display-others\" style=\"background-color: white\"> at the </span><span class=\"spark-nlp-display-entity-wrapper\" style=\"background-color: #a6b1e1\"><span class=\"spark-nlp-display-entity-name\">2021 </span><span class=\"spark-nlp-display-entity-type\">DATE</span></span><span class=\"spark-nlp-display-others\" style=\"background-color: white\"> </span><span class=\"spark-nlp-display-entity-wrapper\" style=\"background-color: #90C1C0\"><span class=\"spark-nlp-display-entity-name\">World Artificial Intelligence  Conference </span><span class=\"spark-nlp-display-entity-type\">EVENT</span></span><span class=\"spark-nlp-display-others\" style=\"background-color: white\"> in </span><span class=\"spark-nlp-display-entity-wrapper\" style=\"background-color: #BD7671\"><span class=\"spark-nlp-display-entity-name\">Shanghai </span><span class=\"spark-nlp-display-entity-type\">GPE</span></span><span class=\"spark-nlp-display-others\" style=\"background-color: white\"> on </span><span class=\"spark-nlp-display-entity-wrapper\" style=\"background-color: #a6b1e1\"><span class=\"spark-nlp-display-entity-name\">July 7 </span><span class=\"spark-nlp-display-entity-type\">DATE</span></span><span class=\"spark-nlp-display-others\" style=\"background-color: white\">, </span><span class=\"spark-nlp-display-entity-wrapper\" style=\"background-color: #A09752\"><span class=\"spark-nlp-display-entity-name\">2021.Chinese </span><span class=\"spark-nlp-display-entity-type\">CARDINAL</span></span><span class=\"spark-nlp-display-others\" style=\"background-color: white\"> artificial intelligence giant </span><span class=\"spark-nlp-display-entity-wrapper\" style=\"background-color: #B30440\"><span class=\"spark-nlp-display-entity-name\">SenseTime </span><span class=\"spark-nlp-display-entity-type\">ORG</span></span><span class=\"spark-nlp-display-others\" style=\"background-color: white\"> is pushing ahead with its initial public offering in </span><span class=\"spark-nlp-display-entity-wrapper\" style=\"background-color: #BD7671\"><span class=\"spark-nlp-display-entity-name\">Hong Kong </span><span class=\"spark-nlp-display-entity-type\">GPE</span></span><span class=\"spark-nlp-display-others\" style=\"background-color: white\"> despite being placed on a </span><span class=\"spark-nlp-display-entity-wrapper\" style=\"background-color: #BD7671\"><span class=\"spark-nlp-display-entity-name\">U.S. </span><span class=\"spark-nlp-display-entity-type\">GPE</span></span><span class=\"spark-nlp-display-others\" style=\"background-color: white\"> investment blacklist just </span><span class=\"spark-nlp-display-entity-wrapper\" style=\"background-color: #a6b1e1\"><span class=\"spark-nlp-display-entity-name\">one week </span><span class=\"spark-nlp-display-entity-type\">DATE</span></span><span class=\"spark-nlp-display-others\" style=\"background-color: white\"> ago, and the company is keeping its price range unchanged. </span><span class=\"spark-nlp-display-entity-wrapper\" style=\"background-color: #B30440\"><span class=\"spark-nlp-display-entity-name\">SenseTime </span><span class=\"spark-nlp-display-entity-type\">ORG</span></span><span class=\"spark-nlp-display-others\" style=\"background-color: white\"> is still seeking to sell </span><span class=\"spark-nlp-display-entity-wrapper\" style=\"background-color: #A09752\"><span class=\"spark-nlp-display-entity-name\">1.5 billion </span><span class=\"spark-nlp-display-entity-type\">CARDINAL</span></span><span class=\"spark-nlp-display-others\" style=\"background-color: white\"> shares at a range of </span><span class=\"spark-nlp-display-entity-wrapper\" style=\"background-color: #A09752\"><span class=\"spark-nlp-display-entity-name\">HK$3.85 to HK$3.99 </span><span class=\"spark-nlp-display-entity-type\">CARDINAL</span></span><span class=\"spark-nlp-display-others\" style=\"background-color: white\"> apiece, the company said in a filing to the </span><span class=\"spark-nlp-display-entity-wrapper\" style=\"background-color: #BD7671\"><span class=\"spark-nlp-display-entity-name\">Hong Kong </span><span class=\"spark-nlp-display-entity-type\">GPE</span></span><span class=\"spark-nlp-display-others\" style=\"background-color: white\"> Stock Exchange. SenseTime, which is based in both </span><span class=\"spark-nlp-display-entity-wrapper\" style=\"background-color: #BD7671\"><span class=\"spark-nlp-display-entity-name\">Shanghai </span><span class=\"spark-nlp-display-entity-type\">GPE</span></span><span class=\"spark-nlp-display-others\" style=\"background-color: white\"> and </span><span class=\"spark-nlp-display-entity-wrapper\" style=\"background-color: #BD7671\"><span class=\"spark-nlp-display-entity-name\">Hong Kong, </span><span class=\"spark-nlp-display-entity-type\">GPE</span></span><span class=\"spark-nlp-display-others\" style=\"background-color: white\"> has updated its list of cornerstone investors that now includes state-owned </span><span class=\"spark-nlp-display-entity-wrapper\" style=\"background-color: #BD7671\"><span class=\"spark-nlp-display-entity-name\">Shanghai </span><span class=\"spark-nlp-display-entity-type\">GPE</span></span><span class=\"spark-nlp-display-others\" style=\"background-color: white\"> </span><span class=\"spark-nlp-display-entity-wrapper\" style=\"background-color: #B30440\"><span class=\"spark-nlp-display-entity-name\">Xuhui Capital, Taizhou Culture & Tourism </span><span class=\"spark-nlp-display-entity-type\">ORG</span></span><span class=\"spark-nlp-display-others\" style=\"background-color: white\"> and </span><span class=\"spark-nlp-display-entity-wrapper\" style=\"background-color: #B30440\"><span class=\"spark-nlp-display-entity-name\">HKSTP Venture Fund. </span><span class=\"spark-nlp-display-entity-type\">ORG</span></span><span class=\"spark-nlp-display-others\" style=\"background-color: white\"> The cornerstone investors have agreed to subscribe for </span><span class=\"spark-nlp-display-entity-wrapper\" style=\"background-color: #A09752\"><span class=\"spark-nlp-display-entity-name\">$512 million </span><span class=\"spark-nlp-display-entity-type\">CARDINAL</span></span><span class=\"spark-nlp-display-others\" style=\"background-color: white\"> worth of </span><span class=\"spark-nlp-display-entity-wrapper\" style=\"background-color: #B30440\"><span class=\"spark-nlp-display-entity-name\">SenseTime </span><span class=\"spark-nlp-display-entity-type\">ORG</span></span><span class=\"spark-nlp-display-others\" style=\"background-color: white\"> shares, which amounts to </span><span class=\"spark-nlp-display-entity-wrapper\" style=\"background-color: #5D69A7\"><span class=\"spark-nlp-display-entity-name\">about 67% </span><span class=\"spark-nlp-display-entity-type\">PERCENT</span></span><span class=\"spark-nlp-display-others\" style=\"background-color: white\"> of the deal. </span><span class=\"spark-nlp-display-entity-wrapper\" style=\"background-color: #B30440\"><span class=\"spark-nlp-display-entity-name\">SenseTime </span><span class=\"spark-nlp-display-entity-type\">ORG</span></span><span class=\"spark-nlp-display-others\" style=\"background-color: white\"> will set its final IPO price on </span><span class=\"spark-nlp-display-entity-wrapper\" style=\"background-color: #BD7671\"><span class=\"spark-nlp-display-entity-name\">Thursday, </span><span class=\"spark-nlp-display-entity-type\">GPE</span></span><span class=\"spark-nlp-display-others\" style=\"background-color: white\"> and it plans to start trading on </span><span class=\"spark-nlp-display-entity-wrapper\" style=\"background-color: #a6b1e1\"><span class=\"spark-nlp-display-entity-name\">December </span><span class=\"spark-nlp-display-entity-type\">DATE</span></span><span class=\"spark-nlp-display-others\" style=\"background-color: white\"> </span><span class=\"spark-nlp-display-entity-wrapper\" style=\"background-color: #A09752\"><span class=\"spark-nlp-display-entity-name\">30 </span><span class=\"spark-nlp-display-entity-type\">CARDINAL</span></span><span class=\"spark-nlp-display-others\" style=\"background-color: white\">. “Demand for the company’s IPO is still there, despite </span><span class=\"spark-nlp-display-entity-wrapper\" style=\"background-color: #BD7671\"><span class=\"spark-nlp-display-entity-name\">U.S. </span><span class=\"spark-nlp-display-entity-type\">GPE</span></span><span class=\"spark-nlp-display-others\" style=\"background-color: white\"> investors being banned from investing into it, ” says </span><span class=\"spark-nlp-display-entity-wrapper\" style=\"background-color: #0E8252\"><span class=\"spark-nlp-display-entity-name\">Ke Yan, </span><span class=\"spark-nlp-display-entity-type\">PERSON</span></span><span class=\"spark-nlp-display-others\" style=\"background-color: white\"> head of research at </span><span class=\"spark-nlp-display-entity-wrapper\" style=\"background-color: #B30440\"><span class=\"spark-nlp-display-entity-name\">Singapore-based DZT Research. </span><span class=\"spark-nlp-display-entity-type\">ORG</span></span><span class=\"spark-nlp-display-others\" style=\"background-color: white\"> The company, however, warned in an updated prospectus that the </span><span class=\"spark-nlp-display-entity-wrapper\" style=\"background-color: #BD7671\"><span class=\"spark-nlp-display-entity-name\">U.S. </span><span class=\"spark-nlp-display-entity-type\">GPE</span></span><span class=\"spark-nlp-display-others\" style=\"background-color: white\"> investment blacklist may affect future interest in and the liquidity of its shares. The </span><span class=\"spark-nlp-display-entity-wrapper\" style=\"background-color: #BD7671\"><span class=\"spark-nlp-display-entity-name\">U.S. </span><span class=\"spark-nlp-display-entity-type\">GPE</span></span><span class=\"spark-nlp-display-others\" style=\"background-color: white\"> </span><span class=\"spark-nlp-display-entity-wrapper\" style=\"background-color: #B30440\"><span class=\"spark-nlp-display-entity-name\">Treasury Department </span><span class=\"spark-nlp-display-entity-type\">ORG</span></span><span class=\"spark-nlp-display-others\" style=\"background-color: white\"> added </span><span class=\"spark-nlp-display-entity-wrapper\" style=\"background-color: #B30440\"><span class=\"spark-nlp-display-entity-name\">SenseTime </span><span class=\"spark-nlp-display-entity-type\">ORG</span></span><span class=\"spark-nlp-display-others\" style=\"background-color: white\"> to a list of </span><span class=\"spark-nlp-display-entity-wrapper\" style=\"background-color: #B1B860\"><span class=\"spark-nlp-display-entity-name\">Chinese </span><span class=\"spark-nlp-display-entity-type\">NORP</span></span><span class=\"spark-nlp-display-others\" style=\"background-color: white\"> military-industrial complex companies on </span><span class=\"spark-nlp-display-entity-wrapper\" style=\"background-color: #a6b1e1\"><span class=\"spark-nlp-display-entity-name\">December 10 </span><span class=\"spark-nlp-display-entity-type\">DATE</span></span><span class=\"spark-nlp-display-others\" style=\"background-color: white\">, citing its development of facial recognition software that can determine ethnicity and has been used to help the </span><span class=\"spark-nlp-display-entity-wrapper\" style=\"background-color: #B1B860\"><span class=\"spark-nlp-display-entity-name\">Chinese </span><span class=\"spark-nlp-display-entity-type\">NORP</span></span><span class=\"spark-nlp-display-others\" style=\"background-color: white\"> government identify ethnic </span><span class=\"spark-nlp-display-entity-wrapper\" style=\"background-color: #B1B860\"><span class=\"spark-nlp-display-entity-name\">Uyghurs </span><span class=\"spark-nlp-display-entity-type\">NORP</span></span><span class=\"spark-nlp-display-others\" style=\"background-color: white\"> in the province of </span><span class=\"spark-nlp-display-entity-wrapper\" style=\"background-color: #BD7671\"><span class=\"spark-nlp-display-entity-name\">Xinjiang. </span><span class=\"spark-nlp-display-entity-type\">GPE</span></span><span class=\"spark-nlp-display-others\" style=\"background-color: white\"> The move effectively bans </span><span class=\"spark-nlp-display-entity-wrapper\" style=\"background-color: #B1B860\"><span class=\"spark-nlp-display-entity-name\">Americans </span><span class=\"spark-nlp-display-entity-type\">NORP</span></span><span class=\"spark-nlp-display-others\" style=\"background-color: white\"> from investing in the firm. The restrictions “could limit our group’s ability to raise funds, in particular, from </span><span class=\"spark-nlp-display-entity-wrapper\" style=\"background-color: #BD7671\"><span class=\"spark-nlp-display-entity-name\">U.S. </span><span class=\"spark-nlp-display-entity-type\">GPE</span></span><span class=\"spark-nlp-display-others\" style=\"background-color: white\"> investors, and the liquidity and market price of our publicly traded securities, including our Class B shares, could be adversely affected due to a lack of </span><span class=\"spark-nlp-display-entity-wrapper\" style=\"background-color: #BD7671\"><span class=\"spark-nlp-display-entity-name\">U.S. </span><span class=\"spark-nlp-display-entity-type\">GPE</span></span><span class=\"spark-nlp-display-others\" style=\"background-color: white\"> investor participation,” the company wrote in its amended prospectus. </span><span class=\"spark-nlp-display-entity-wrapper\" style=\"background-color: #B30440\"><span class=\"spark-nlp-display-entity-name\">SenseTime </span><span class=\"spark-nlp-display-entity-type\">ORG</span></span><span class=\"spark-nlp-display-others\" style=\"background-color: white\"> was founded in </span><span class=\"spark-nlp-display-entity-wrapper\" style=\"background-color: #a6b1e1\"><span class=\"spark-nlp-display-entity-name\">2014 </span><span class=\"spark-nlp-display-entity-type\">DATE</span></span><span class=\"spark-nlp-display-others\" style=\"background-color: white\"> when professor </span><span class=\"spark-nlp-display-entity-wrapper\" style=\"background-color: #0E8252\"><span class=\"spark-nlp-display-entity-name\">Tang Xiao’ou </span><span class=\"spark-nlp-display-entity-type\">PERSON</span></span><span class=\"spark-nlp-display-others\" style=\"background-color: white\"> established the company with </span><span class=\"spark-nlp-display-entity-wrapper\" style=\"background-color: #A09752\"><span class=\"spark-nlp-display-entity-name\">two </span><span class=\"spark-nlp-display-entity-type\">CARDINAL</span></span><span class=\"spark-nlp-display-others\" style=\"background-color: white\"> of his </span><span class=\"spark-nlp-display-entity-wrapper\" style=\"background-color: #5D109D\"><span class=\"spark-nlp-display-entity-name\">Ph.D. </span><span class=\"spark-nlp-display-entity-type\">WORK_OF_ART</span></span><span class=\"spark-nlp-display-others\" style=\"background-color: white\"> students, </span><span class=\"spark-nlp-display-entity-wrapper\" style=\"background-color: #0E8252\"><span class=\"spark-nlp-display-entity-name\">Xu Li </span><span class=\"spark-nlp-display-entity-type\">PERSON</span></span><span class=\"spark-nlp-display-others\" style=\"background-color: white\"> and </span><span class=\"spark-nlp-display-entity-wrapper\" style=\"background-color: #0E8252\"><span class=\"spark-nlp-display-entity-name\">Xu Bing. </span><span class=\"spark-nlp-display-entity-type\">PERSON</span></span><span class=\"spark-nlp-display-others\" style=\"background-color: white\"> The </span><span class=\"spark-nlp-display-entity-wrapper\" style=\"background-color: #0E8252\"><span class=\"spark-nlp-display-entity-name\">53-year-old </span><span class=\"spark-nlp-display-entity-type\">PERSON</span></span><span class=\"spark-nlp-display-others\" style=\"background-color: white\"> has a net worth of </span><span class=\"spark-nlp-display-entity-wrapper\" style=\"background-color: #6B7775\"><span class=\"spark-nlp-display-entity-name\">at least $3.4 billion </span><span class=\"spark-nlp-display-entity-type\">MONEY</span></span><span class=\"spark-nlp-display-others\" style=\"background-color: white\"> based on his ownership in the company, although he isn’t as involved in its </span><span class=\"spark-nlp-display-entity-wrapper\" style=\"background-color: #a6b1e1\"><span class=\"spark-nlp-display-entity-name\">daily </span><span class=\"spark-nlp-display-entity-type\">DATE</span></span><span class=\"spark-nlp-display-others\" style=\"background-color: white\"> management. </span><span class=\"spark-nlp-display-entity-wrapper\" style=\"background-color: #0E8252\"><span class=\"spark-nlp-display-entity-name\">Tang </span><span class=\"spark-nlp-display-entity-type\">PERSON</span></span><span class=\"spark-nlp-display-others\" style=\"background-color: white\"> is said to be responsible for </span><span class=\"spark-nlp-display-entity-wrapper\" style=\"background-color: #B30440\"><span class=\"spark-nlp-display-entity-name\">SenseTime’s </span><span class=\"spark-nlp-display-entity-type\">ORG</span></span><span class=\"spark-nlp-display-others\" style=\"background-color: white\"> research strategies and partnerships with universities, and he also continues to teach AI-related courses at </span><span class=\"spark-nlp-display-entity-wrapper\" style=\"background-color: #B30440\"><span class=\"spark-nlp-display-entity-name\">the Chinese University of Hong Kong. </span><span class=\"spark-nlp-display-entity-type\">ORG</span></span></div>"
            ],
            "text/plain": [
              "<IPython.core.display.HTML object>"
            ]
          },
          "metadata": {}
        }
      ]
    },
    {
      "cell_type": "code",
      "source": [
        "# get company names which are needed to remove.\n",
        "companies=[]\n",
        "for token, ner in zip(result['token'], result['ner']):\n",
        "  if 'ORG' in ner:\n",
        "    for entity in result['entities']:\n",
        "      if token in entity:\n",
        "        companies.append(entity)"
      ],
      "metadata": {
        "id": "uCmOs8pTssUu"
      },
      "execution_count": null,
      "outputs": []
    },
    {
      "cell_type": "code",
      "source": [
        "list(set(companies))"
      ],
      "metadata": {
        "colab": {
          "base_uri": "https://localhost:8080/"
        },
        "id": "qVTDDW7Vu3yX",
        "outputId": "307e8fe4-ae77-4e02-d626-fdc52a7756a4"
      },
      "execution_count": null,
      "outputs": [
        {
          "output_type": "execute_result",
          "data": {
            "text/plain": [
              "['Treasury Department',\n",
              " 'the Chinese University of Hong Kong.',\n",
              " 'Xuhui Capital, Taizhou Culture & Tourism',\n",
              " '2021.Chinese',\n",
              " 'HKSTP Venture Fund.',\n",
              " 'SenseTime’s',\n",
              " 'SenseTime',\n",
              " 'Chinese',\n",
              " 'Hong Kong,',\n",
              " 'Singapore-based DZT Research.',\n",
              " 'Hong Kong']"
            ]
          },
          "metadata": {},
          "execution_count": 9
        }
      ]
    },
    {
      "cell_type": "code",
      "source": [
        "# remove all company names\n",
        "text_without_companies = text\n",
        "for company in list(set(companies)):\n",
        "  text_without_companies = text_without_companies.replace(company, \"\")\n",
        "text_without_companies"
      ],
      "metadata": {
        "colab": {
          "base_uri": "https://localhost:8080/",
          "height": 140
        },
        "id": "K-oC9LTdvEGw",
        "outputId": "e08958d7-ccef-486a-fd3d-e33d27de5e96"
      },
      "execution_count": null,
      "outputs": [
        {
          "output_type": "execute_result",
          "data": {
            "application/vnd.google.colaboratory.intrinsic+json": {
              "type": "string"
            },
            "text/plain": [
              "'Visitors check out the booth belonging to  at the 2021 World Artificial Intelligence  Conference in Shanghai on July 7,  artificial intelligence giant  is pushing ahead with its initial public offering in  despite being placed on a U.S. investment blacklist just one week ago, and the company is keeping its price range unchanged.  is still seeking to sell 1.5 billion shares at a range of HK$3.85 to HK$3.99 apiece, the company said in a filing to the  Stock Exchange. , which is based in both Shanghai and  has updated its list of cornerstone investors that now includes state-owned Shanghai  and  The cornerstone investors have agreed to subscribe for $512 million worth of  shares, which amounts to about 67% of the deal.  will set its final IPO price on Thursday, and it plans to start trading on December 30. “Demand for the company’s IPO is still there, despite U.S. investors being banned from investing into it, ” says Ke Yan, head of research at  The company, however, warned in an updated prospectus that the U.S. investment blacklist may affect future interest in and the liquidity of its shares. The U.S.  added  to a list of  military-industrial complex companies on December 10, citing its development of facial recognition software that can determine ethnicity and has been used to help the  government identify ethnic Uyghurs in the province of Xinjiang. The move effectively bans Americans from investing in the firm. The restrictions “could limit our group’s ability to raise funds, in particular, from U.S. investors, and the liquidity and market price of our publicly traded securities, including our Class B shares, could be adversely affected due to a lack of U.S. investor participation,” the company wrote in its amended prospectus.  was founded in 2014 when professor Tang Xiao’ou established the company with two of his Ph.D. students, Xu Li and Xu Bing. The 53-year-old has a net worth of at least $3.4 billion based on his ownership in the company, although he isn’t as involved in its daily management. Tang is said to be responsible for  research strategies and partnerships with universities, and he also continues to teach AI-related courses at '"
            ]
          },
          "metadata": {},
          "execution_count": 10
        }
      ]
    },
    {
      "cell_type": "markdown",
      "source": [
        "## 2. Tokenization, Normalization, Stemming, Lemmatization and Removing stop words"
      ],
      "metadata": {
        "id": "kiIYb38t51mA"
      }
    },
    {
      "cell_type": "code",
      "source": [
        "!wget -q https://raw.githubusercontent.com/mahavivo/vocabulary/master/lemmas/AntBNC_lemmas_ver_001.txt"
      ],
      "metadata": {
        "id": "D-dWPmbWy2Ku"
      },
      "execution_count": null,
      "outputs": []
    },
    {
      "cell_type": "code",
      "execution_count": null,
      "metadata": {
        "id": "2kjeflxwumBM"
      },
      "outputs": [],
      "source": [
        "documentAssembler = DocumentAssembler() \\\n",
        "    .setInputCol('text') \\\n",
        "    .setOutputCol('document')\n",
        "\n",
        "tokenizer = Tokenizer() \\\n",
        "    .setInputCols(['document']) \\\n",
        "    .setOutputCol('token')\n",
        "\n",
        "# lower cases, remove punctuations and only keep alphabet letters ([^A-Za-z]) \n",
        "normalizer = Normalizer() \\\n",
        "    .setInputCols([\"token\"]) \\\n",
        "    .setOutputCol(\"normalized\")\\\n",
        "    .setLowercase(True)\n",
        "\n",
        "stemmer = Stemmer() \\\n",
        "    .setInputCols([\"token\"]) \\\n",
        "    .setOutputCol(\"stem\")\n",
        "\n",
        "lemmatizer = Lemmatizer() \\\n",
        "    .setInputCols([\"token\"]) \\\n",
        "    .setOutputCol(\"lemma\") \\\n",
        "    .setDictionary(\"./AntBNC_lemmas_ver_001.txt\", value_delimiter =\"\\t\", key_delimiter = \"->\")\n",
        "\n",
        "stopwords_cleaner = StopWordsCleaner()\\\n",
        "      .setInputCols(\"token\")\\\n",
        "      .setOutputCol(\"cleanTokens\")\\\n",
        "      .setCaseSensitive(False)\\\n",
        "      #.setStopWords([\"no\", \"without\"]) (e.g. read a list of words from a txt)\n",
        "\n",
        "nlp_pipeline = Pipeline(stages=[\n",
        "    documentAssembler, \n",
        "    tokenizer,\n",
        "    normalizer,\n",
        "    stemmer,\n",
        "    lemmatizer,\n",
        "    stopwords_cleaner\n",
        "])\n",
        "\n",
        "empty_df = spark.createDataFrame([['']]).toDF(\"text\")\n",
        "\n",
        "pipelineModel = nlp_pipeline.fit(empty_df)"
      ]
    },
    {
      "cell_type": "code",
      "source": [
        "df = spark.createDataFrame([[text_without_companies]]).toDF(\"text\")\n",
        "result_df = pipelineModel.transform(df)\n",
        "result_df.show()"
      ],
      "metadata": {
        "colab": {
          "base_uri": "https://localhost:8080/"
        },
        "id": "xe9FF7mYz0pX",
        "outputId": "16f1197b-aac7-4188-e4f7-c7a2e45b32f6"
      },
      "execution_count": null,
      "outputs": [
        {
          "output_type": "stream",
          "name": "stdout",
          "text": [
            "+--------------------+--------------------+--------------------+--------------------+--------------------+--------------------+--------------------+\n",
            "|                text|            document|               token|          normalized|                stem|               lemma|         cleanTokens|\n",
            "+--------------------+--------------------+--------------------+--------------------+--------------------+--------------------+--------------------+\n",
            "|Visitors check ou...|[[document, 0, 21...|[[token, 0, 7, Vi...|[[token, 0, 7, vi...|[[token, 0, 7, vi...|[[token, 0, 7, Vi...|[[token, 0, 7, Vi...|\n",
            "+--------------------+--------------------+--------------------+--------------------+--------------------+--------------------+--------------------+\n",
            "\n"
          ]
        }
      ]
    }
  ],
  "metadata": {
    "colab": {
      "collapsed_sections": [],
      "name": "Task 2 for AIDF NLP-AD intern coding test",
      "provenance": []
    },
    "kernelspec": {
      "display_name": "Python 3",
      "language": "python",
      "name": "python3"
    },
    "language_info": {
      "codemirror_mode": {
        "name": "ipython",
        "version": 3
      },
      "file_extension": ".py",
      "mimetype": "text/x-python",
      "name": "python",
      "nbconvert_exporter": "python",
      "pygments_lexer": "ipython3",
      "version": "3.7.4"
    }
  },
  "nbformat": 4,
  "nbformat_minor": 0
}